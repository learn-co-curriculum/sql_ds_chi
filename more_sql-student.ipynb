{
 "cells": [
  {
   "cell_type": "code",
   "execution_count": 1,
   "metadata": {
    "slideshow": {
     "slide_type": "slide"
    }
   },
   "outputs": [],
   "source": [
    "import sqlite3"
   ]
  },
  {
   "cell_type": "markdown",
   "metadata": {},
   "source": [
    "The [Chinook database](https://github.com/lerocha/chinook-database) is a sample database, representing a digital media store.\n",
    "\n",
    "The name of the database is `Chinook_Sqlite.sqlite`"
   ]
  },
  {
   "cell_type": "markdown",
   "metadata": {
    "slideshow": {
     "slide_type": "slide"
    }
   },
   "source": [
    "Database information:<br>\n",
    "- How many tables are in the database?\n",
    "- What's the primary key of each table?\n",
    "- What foreign keys join the tables together?\n",
    "- If you had to draw a schema of how the tables are connected, what would it look like?"
   ]
  },
  {
   "cell_type": "code",
   "execution_count": 2,
   "metadata": {
    "slideshow": {
     "slide_type": "skip"
    }
   },
   "outputs": [],
   "source": [
    "conn = sqlite3.connect('data/Chinook_Sqlite.sqlite')\n",
    "cur = conn.cursor()"
   ]
  },
  {
   "cell_type": "code",
   "execution_count": 38,
   "metadata": {},
   "outputs": [],
   "source": [
    "# Every sqlite database has an sqlite_master table with data about the schema"
   ]
  },
  {
   "cell_type": "code",
   "execution_count": 16,
   "metadata": {},
   "outputs": [
    {
     "name": "stdout",
     "output_type": "stream",
     "text": [
      "[('Album',), ('Artist',), ('Customer',), ('Employee',), ('Genre',), ('Invoice',), ('InvoiceLine',), ('MediaType',), ('Playlist',), ('PlaylistTrack',), ('Track',)]\n"
     ]
    }
   ],
   "source": [
    "# How many tables are in the database?\n",
    "\n",
    "cur.execute(\"SELECT name FROM sqlite_master WHERE type='table';\")\n",
    "print(cur.fetchall())\n"
   ]
  },
  {
   "cell_type": "code",
   "execution_count": 51,
   "metadata": {},
   "outputs": [
    {
     "name": "stdout",
     "output_type": "stream",
     "text": [
      "(0, 'InvoiceId', 'INTEGER', 1, None, 1)\n",
      "(1, 'CustomerId', 'INTEGER', 1, None, 0)\n",
      "(2, 'InvoiceDate', 'DATETIME', 1, None, 0)\n",
      "(3, 'BillingAddress', 'NVARCHAR(70)', 0, None, 0)\n",
      "(4, 'BillingCity', 'NVARCHAR(40)', 0, None, 0)\n",
      "(5, 'BillingState', 'NVARCHAR(40)', 0, None, 0)\n",
      "(6, 'BillingCountry', 'NVARCHAR(40)', 0, None, 0)\n",
      "(7, 'BillingPostalCode', 'NVARCHAR(10)', 0, None, 0)\n",
      "(8, 'Total', 'NUMERIC(10,2)', 1, None, 0)\n"
     ]
    }
   ],
   "source": [
    "# We can use the PRAGMA command to find more information about each table\n",
    "# From the output below, figure out how to identify the primary key of a table?\n",
    "cur.execute(\"PRAGMA table_info(Invoice)\")\n",
    "info = cur.fetchall()\n",
    "print(*info, sep = \"\\n\") \n"
   ]
  },
  {
   "cell_type": "code",
   "execution_count": 53,
   "metadata": {},
   "outputs": [
    {
     "name": "stdout",
     "output_type": "stream",
     "text": [
      "(0, 0, 'Employee', 'SupportRepId', 'EmployeeId', 'NO ACTION', 'NO ACTION', 'NONE')\n"
     ]
    }
   ],
   "source": [
    "# What foreign keys join the tables together?\n",
    "cur.execute(\"PRAGMA foreign_key_list(Customer)\")\n",
    "info = cur.fetchall()\n",
    "print(*info, sep = \"\\n\") \n",
    "# your code here\n",
    "# hint: use \"PRAGMA foreign_key_list()\"\n"
   ]
  },
  {
   "cell_type": "markdown",
   "metadata": {},
   "source": [
    "Thank you https://github.com/LucasMcL/15-sql_queries_02-chinook\n",
    "    for these questions"
   ]
  },
  {
   "cell_type": "code",
   "execution_count": 29,
   "metadata": {},
   "outputs": [
    {
     "name": "stdout",
     "output_type": "stream",
     "text": [
      "[('Luís', 'Gonçalves', 1, 'Brazil'), ('Leonie', 'Köhler', 2, 'Germany'), ('François', 'Tremblay', 3, 'Canada'), ('Bjørn', 'Hansen', 4, 'Norway'), ('František', 'Wichterlová', 5, 'Czech Republic'), ('Helena', 'Holý', 6, 'Czech Republic'), ('Astrid', 'Gruber', 7, 'Austria'), ('Daan', 'Peeters', 8, 'Belgium'), ('Kara', 'Nielsen', 9, 'Denmark'), ('Eduardo', 'Martins', 10, 'Brazil'), ('Alexandre', 'Rocha', 11, 'Brazil'), ('Roberto', 'Almeida', 12, 'Brazil'), ('Fernanda', 'Ramos', 13, 'Brazil'), ('Mark', 'Philips', 14, 'Canada'), ('Jennifer', 'Peterson', 15, 'Canada'), ('Robert', 'Brown', 29, 'Canada'), ('Edward', 'Francis', 30, 'Canada'), ('Martha', 'Silk', 31, 'Canada'), ('Aaron', 'Mitchell', 32, 'Canada'), ('Ellie', 'Sullivan', 33, 'Canada'), ('João', 'Fernandes', 34, 'Portugal'), ('Madalena', 'Sampaio', 35, 'Portugal'), ('Hannah', 'Schneider', 36, 'Germany'), ('Fynn', 'Zimmermann', 37, 'Germany'), ('Niklas', 'Schröder', 38, 'Germany'), ('Camille', 'Bernard', 39, 'France'), ('Dominique', 'Lefebvre', 40, 'France'), ('Marc', 'Dubois', 41, 'France'), ('Wyatt', 'Girard', 42, 'France'), ('Isabelle', 'Mercier', 43, 'France'), ('Terhi', 'Hämäläinen', 44, 'Finland'), ('Ladislav', 'Kovács', 45, 'Hungary'), ('Hugh', \"O'Reilly\", 46, 'Ireland'), ('Lucas', 'Mancini', 47, 'Italy'), ('Johannes', 'Van der Berg', 48, 'Netherlands'), ('Stanisław', 'Wójcik', 49, 'Poland'), ('Enrique', 'Muñoz', 50, 'Spain'), ('Joakim', 'Johansson', 51, 'Sweden'), ('Emma', 'Jones', 52, 'United Kingdom'), ('Phil', 'Hughes', 53, 'United Kingdom'), ('Steve', 'Murray', 54, 'United Kingdom'), ('Mark', 'Taylor', 55, 'Australia'), ('Diego', 'Gutiérrez', 56, 'Argentina'), ('Luis', 'Rojas', 57, 'Chile'), ('Manoj', 'Pareek', 58, 'India'), ('Puja', 'Srivastava', 59, 'India')]\n"
     ]
    }
   ],
   "source": [
    "# Provide a query showing Customers (just their full names, customer ID and country) who are not in the US.\n",
    "cur.execute(\"\"\"\n",
    "    SELECT FirstName, LastName, CustomerId, Country\n",
    "    FROM customer\n",
    "    WHERE country != 'USA'\n",
    "    \n",
    "\n",
    "\"\"\")\n",
    "print(cur.fetchall())\n",
    "\n"
   ]
  },
  {
   "cell_type": "code",
   "execution_count": 30,
   "metadata": {},
   "outputs": [
    {
     "name": "stdout",
     "output_type": "stream",
     "text": [
      "[('Luís', 'Gonçalves', 1, 'Brazil'), ('Eduardo', 'Martins', 10, 'Brazil'), ('Alexandre', 'Rocha', 11, 'Brazil'), ('Roberto', 'Almeida', 12, 'Brazil'), ('Fernanda', 'Ramos', 13, 'Brazil')]\n"
     ]
    }
   ],
   "source": [
    "# Provide a query only showing the Customers from Brazil.\n",
    "\n",
    "cur.execute(\"\"\"\n",
    "    SELECT FirstName, LastName, CustomerId, Country\n",
    "    FROM customer\n",
    "    WHERE country = 'Brazil'\n",
    "    \n",
    "\n",
    "\"\"\")\n",
    "print(cur.fetchall())"
   ]
  },
  {
   "cell_type": "code",
   "execution_count": 38,
   "metadata": {},
   "outputs": [
    {
     "name": "stdout",
     "output_type": "stream",
     "text": [
      "[('Luís', 'Gonçalves', 'Brazil', 98, '2010-03-11 00:00:00'), ('Luís', 'Gonçalves', 'Brazil', 121, '2010-06-13 00:00:00'), ('Luís', 'Gonçalves', 'Brazil', 143, '2010-09-15 00:00:00'), ('Luís', 'Gonçalves', 'Brazil', 195, '2011-05-06 00:00:00'), ('Luís', 'Gonçalves', 'Brazil', 316, '2012-10-27 00:00:00'), ('Luís', 'Gonçalves', 'Brazil', 327, '2012-12-07 00:00:00'), ('Luís', 'Gonçalves', 'Brazil', 382, '2013-08-07 00:00:00'), ('Eduardo', 'Martins', 'Brazil', 25, '2009-04-09 00:00:00'), ('Eduardo', 'Martins', 'Brazil', 154, '2010-11-14 00:00:00'), ('Eduardo', 'Martins', 'Brazil', 177, '2011-02-16 00:00:00'), ('Eduardo', 'Martins', 'Brazil', 199, '2011-05-21 00:00:00'), ('Eduardo', 'Martins', 'Brazil', 251, '2012-01-09 00:00:00'), ('Eduardo', 'Martins', 'Brazil', 372, '2013-07-02 00:00:00'), ('Eduardo', 'Martins', 'Brazil', 383, '2013-08-12 00:00:00'), ('Alexandre', 'Rocha', 'Brazil', 57, '2009-09-06 00:00:00'), ('Alexandre', 'Rocha', 'Brazil', 68, '2009-10-17 00:00:00'), ('Alexandre', 'Rocha', 'Brazil', 123, '2010-06-17 00:00:00'), ('Alexandre', 'Rocha', 'Brazil', 252, '2012-01-22 00:00:00'), ('Alexandre', 'Rocha', 'Brazil', 275, '2012-04-25 00:00:00'), ('Alexandre', 'Rocha', 'Brazil', 297, '2012-07-28 00:00:00'), ('Alexandre', 'Rocha', 'Brazil', 349, '2013-03-18 00:00:00'), ('Roberto', 'Almeida', 'Brazil', 34, '2009-05-23 00:00:00'), ('Roberto', 'Almeida', 'Brazil', 155, '2010-11-14 00:00:00'), ('Roberto', 'Almeida', 'Brazil', 166, '2010-12-25 00:00:00'), ('Roberto', 'Almeida', 'Brazil', 221, '2011-08-25 00:00:00'), ('Roberto', 'Almeida', 'Brazil', 350, '2013-03-31 00:00:00'), ('Roberto', 'Almeida', 'Brazil', 373, '2013-07-03 00:00:00'), ('Roberto', 'Almeida', 'Brazil', 395, '2013-10-05 00:00:00'), ('Fernanda', 'Ramos', 'Brazil', 35, '2009-06-05 00:00:00'), ('Fernanda', 'Ramos', 'Brazil', 58, '2009-09-07 00:00:00'), ('Fernanda', 'Ramos', 'Brazil', 80, '2009-12-10 00:00:00'), ('Fernanda', 'Ramos', 'Brazil', 132, '2010-07-31 00:00:00'), ('Fernanda', 'Ramos', 'Brazil', 253, '2012-01-22 00:00:00'), ('Fernanda', 'Ramos', 'Brazil', 264, '2012-03-03 00:00:00'), ('Fernanda', 'Ramos', 'Brazil', 319, '2012-11-01 00:00:00')]\n"
     ]
    }
   ],
   "source": [
    "# Provide a query showing the Invoices of customers who are from Brazil. The resultant table should show the customer's full name, Invoice ID, Date of the invoice and billing country.\n",
    "cur.execute(\"\"\"\n",
    "     SELECT c.Firstname, c.Lastname, i.BillingCountry, i.InvoiceId, i.InvoiceDate\n",
    "     FROM invoice i\n",
    "     JOIN customer c\n",
    "     ON i.CustomerId = c.CustomerId\n",
    "     WHERE country=\"Brazil\"\n",
    "\n",
    "\"\"\")\n",
    "print(cur.fetchall())"
   ]
  },
  {
   "cell_type": "code",
   "execution_count": 42,
   "metadata": {},
   "outputs": [
    {
     "name": "stdout",
     "output_type": "stream",
     "text": [
      "[('General Manager',), ('Sales Manager',), ('Sales Support Agent',), ('IT Manager',), ('IT Staff',)]\n"
     ]
    }
   ],
   "source": [
    "# Provide a query showing only the Employees who are Sales Agents.\n",
    "cur.execute('''\n",
    "    SELECT DISTINCT title\n",
    "    FROM employee\n",
    "    '''\n",
    ")\n",
    "print(cur.fetchall())\n"
   ]
  },
  {
   "cell_type": "code",
   "execution_count": 47,
   "metadata": {},
   "outputs": [
    {
     "name": "stdout",
     "output_type": "stream",
     "text": [
      "('Jane', 'Peacock', 'Sales Support Agent')\n",
      "('Margaret', 'Park', 'Sales Support Agent')\n",
      "('Steve', 'Johnson', 'Sales Support Agent')\n"
     ]
    }
   ],
   "source": [
    "cur.execute('''\n",
    "    SELECT FirstName, LastName, title \n",
    "    FROM employee\n",
    "    WHERE title LIKE '%Agent'\n",
    "    '''\n",
    ")\n",
    "info = cur.fetchall()\n",
    "print(*info, sep = \"\\n\") "
   ]
  },
  {
   "cell_type": "code",
   "execution_count": 49,
   "metadata": {},
   "outputs": [
    {
     "name": "stdout",
     "output_type": "stream",
     "text": [
      "(24,)\n"
     ]
    }
   ],
   "source": [
    "# Provide a query showing a unique list of billing countries from the Invoice table.\n",
    "cur.execute('''\n",
    "    SELECT COUNT(DISTINCT(BillingCountry))\n",
    "    FROM invoice\n",
    "    \n",
    "\n",
    "    '''\n",
    ")\n",
    "info = cur.fetchall()\n",
    "print(*info, sep = \"\\n\")"
   ]
  },
  {
   "cell_type": "code",
   "execution_count": null,
   "metadata": {},
   "outputs": [],
   "source": []
  },
  {
   "cell_type": "code",
   "execution_count": 54,
   "metadata": {},
   "outputs": [
    {
     "ename": "OperationalError",
     "evalue": "no such column: c.EmployeeId",
     "output_type": "error",
     "traceback": [
      "\u001b[0;31m---------------------------------------------------------------------------\u001b[0m",
      "\u001b[0;31mOperationalError\u001b[0m                          Traceback (most recent call last)",
      "\u001b[0;32m<ipython-input-54-2bbcfa51bfeb>\u001b[0m in \u001b[0;36m<module>\u001b[0;34m\u001b[0m\n\u001b[1;32m      9\u001b[0m     \u001b[0mWHERE\u001b[0m \u001b[0me\u001b[0m\u001b[0;34m.\u001b[0m\u001b[0mtitle\u001b[0m \u001b[0mLIKE\u001b[0m \u001b[0;34m'%Agent'\u001b[0m\u001b[0;34m\u001b[0m\u001b[0;34m\u001b[0m\u001b[0m\n\u001b[1;32m     10\u001b[0m \u001b[0;34m\u001b[0m\u001b[0m\n\u001b[0;32m---> 11\u001b[0;31m     '''\n\u001b[0m\u001b[1;32m     12\u001b[0m )\n\u001b[1;32m     13\u001b[0m \u001b[0minfo\u001b[0m \u001b[0;34m=\u001b[0m \u001b[0mcur\u001b[0m\u001b[0;34m.\u001b[0m\u001b[0mfetchall\u001b[0m\u001b[0;34m(\u001b[0m\u001b[0;34m)\u001b[0m\u001b[0;34m\u001b[0m\u001b[0;34m\u001b[0m\u001b[0m\n",
      "\u001b[0;31mOperationalError\u001b[0m: no such column: c.EmployeeId"
     ]
    }
   ],
   "source": [
    "# Provide a query that shows the invoices associated with each sales agent. The resultant table should include the Sales Agent's full name.\n",
    "cur.execute('''\n",
    "    SELECT i.InvoiceId, e.FirstName, e.LastName\n",
    "    FROM invoice i\n",
    "    JOIN customer c\n",
    "    ON i.CustomerId = c.CustomerId\n",
    "    JOIN employee e\n",
    "    ON c.EmployeeId = e.EmployeeId\n",
    "    WHERE e.title LIKE '%Agent'\n",
    "\n",
    "    '''\n",
    ")\n",
    "info = cur.fetchall()\n",
    "print(*info, sep = \"\\n\")"
   ]
  },
  {
   "cell_type": "code",
   "execution_count": null,
   "metadata": {},
   "outputs": [],
   "source": []
  }
 ],
 "metadata": {
  "kernelspec": {
   "display_name": "Python 3",
   "language": "python",
   "name": "python3"
  },
  "language_info": {
   "codemirror_mode": {
    "name": "ipython",
    "version": 3
   },
   "file_extension": ".py",
   "mimetype": "text/x-python",
   "name": "python",
   "nbconvert_exporter": "python",
   "pygments_lexer": "ipython3",
   "version": "3.7.3"
  }
 },
 "nbformat": 4,
 "nbformat_minor": 4
}
